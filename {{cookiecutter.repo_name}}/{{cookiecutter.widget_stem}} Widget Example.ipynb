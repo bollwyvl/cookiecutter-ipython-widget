{
 "metadata": {
  "name": "",
  "signature": "sha256:e9bbf5794a20975002e4d5c59e4ff58dc550dd12f45431393cdf1b13fa2eb078"
 },
 "nbformat": 3,
 "nbformat_minor": 0,
 "worksheets": [
  {
   "cells": [
    {
     "cell_type": "markdown",
     "metadata": {},
     "source": [
      "# {{cookiecutter.widget_stem}} Widget Example"
     ]
    },
    {
     "cell_type": "markdown",
     "metadata": {},
     "source": [
      "> <i class=\"icon icon-info-sign icon-2x\"></i> Execute each of these cells in order, such as with <label class=\"label\">Shift+Enter</label>"
     ]
    },
    {
     "cell_type": "markdown",
     "metadata": {},
     "source": [
      "First, load your `{{cookiecutter.widget_stem}}Widget` from your module:"
     ]
    },
    {
     "cell_type": "code",
     "collapsed": false,
     "input": [
      "from {{cookiecutter.pkg_name}}.widgets.{{cookiecutter.widget_file}} import {{cookiecutter.widget_stem}}Widget"
     ],
     "language": "python",
     "metadata": {},
     "outputs": []
    },
    {
     "cell_type": "markdown",
     "metadata": {},
     "source": [
      "Then, create an instance of `{{cookiecutter.widget_stem}}Widget`:"
     ]
    },
    {
     "cell_type": "code",
     "collapsed": false,
     "input": [
      "{{cookiecutter.widget_file}}Example = {{cookiecutter.widget_stem}}Widget()"
     ],
     "language": "python",
     "metadata": {},
     "outputs": []
    },
    {
     "cell_type": "markdown",
     "metadata": {},
     "source": [
      "Display the widget:"
     ]
    },
    {
     "cell_type": "code",
     "collapsed": false,
     "input": [
      "{{cookiecutter.widget_file}}Example"
     ],
     "language": "python",
     "metadata": {},
     "outputs": []
    },
    {
     "cell_type": "markdown",
     "metadata": {},
     "source": [
      "> <i class=\"icon icon-picture icon-2x\"></i> You should see a little text box with some controls in it."
     ]
    },
    {
     "cell_type": "markdown",
     "metadata": {},
     "source": [
      "Now, you can update the `value`:"
     ]
    },
    {
     "cell_type": "code",
     "collapsed": false,
     "input": [
      "{{cookiecutter.widget_file}}Example.value = '{{cookiecutter.release_date}}'"
     ],
     "language": "python",
     "metadata": {},
     "outputs": []
    },
    {
     "cell_type": "markdown",
     "metadata": {},
     "source": [
      "> <i class=\"icon icon-picture icon-2x\"></i> You should see the date change."
     ]
    },
    {
     "cell_type": "markdown",
     "metadata": {},
     "source": [
      "You can have more than one copy of your `{{cookiecutter.widget_stem}}Widget`"
     ]
    },
    {
     "cell_type": "code",
     "collapsed": false,
     "input": [
      "{{cookiecutter.widget_file}}Example"
     ],
     "language": "python",
     "metadata": {},
     "outputs": []
    }
   ],
   "metadata": {}
  }
 ]
}
